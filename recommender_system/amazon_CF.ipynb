{
 "cells": [
  {
   "cell_type": "markdown",
   "metadata": {},
   "source": [
    "## Assignment one. \n",
    "  \n",
    "Nawen Gong  \n",
    "\n",
    "Kaggle name: Noven_G"
   ]
  },
  {
   "cell_type": "code",
   "execution_count": null,
   "metadata": {},
   "outputs": [],
   "source": [
    "import gzip\n",
    "from collections import *\n",
    "import numpy as np\n",
    "from random import sample, randint\n",
    "from sklearn.metrics import accuracy_score\n",
    "from sklearn.metrics import jaccard_similarity_score\n",
    "from sklearn.metrics.pairwise import cosine_similarity\n",
    "from sklearn.metrics import mean_squared_error\n",
    "import matplotlib.pyplot as plt\n",
    "import os.path\n",
    "import pprint\n",
    "import random\n",
    "from operator import itemgetter"
   ]
  },
  {
   "cell_type": "code",
   "execution_count": 712,
   "metadata": {},
   "outputs": [],
   "source": [
    "def readGz(f):\n",
    "  for l in gzip.open(f):\n",
    "    yield eval(l)\n",
    "\n",
    "data = list(readGz('train.json.gz'))"
   ]
  },
  {
   "cell_type": "markdown",
   "metadata": {},
   "source": [
    "### Shuffling data as we may not be able to run on the whole dataset"
   ]
  },
  {
   "cell_type": "code",
   "execution_count": 1700,
   "metadata": {},
   "outputs": [],
   "source": [
    "random.shuffle(data)\n",
    "#data[:-50]"
   ]
  },
  {
   "cell_type": "code",
   "execution_count": 1701,
   "metadata": {},
   "outputs": [],
   "source": [
    "train = data[0:100000]\n",
    "\n",
    "val = data[100000:]"
   ]
  },
  {
   "cell_type": "markdown",
   "metadata": {},
   "source": [
    "### Flatten the category and get the count of each category"
   ]
  },
  {
   "cell_type": "code",
   "execution_count": 1703,
   "metadata": {},
   "outputs": [],
   "source": [
    "def flatten(items, seqtypes=(list, tuple)):\n",
    "    for i, x in enumerate(items):\n",
    "        while i < len(items) and isinstance(items[i], seqtypes):\n",
    "            items[i:i+1] = items[i]\n",
    "    return items"
   ]
  },
  {
   "cell_type": "code",
   "execution_count": 1704,
   "metadata": {},
   "outputs": [],
   "source": [
    "category = [d['categories'] for d in data]"
   ]
  },
  {
   "cell_type": "code",
   "execution_count": 1705,
   "metadata": {},
   "outputs": [],
   "source": [
    "fcat = flatten(category[:])\n",
    "cat = list(set(fcat))"
   ]
  },
  {
   "cell_type": "code",
   "execution_count": 1706,
   "metadata": {},
   "outputs": [],
   "source": [
    "hist = defaultdict(int)\n",
    "for i in fcat:\n",
    "    hist[i] += 1"
   ]
  },
  {
   "cell_type": "code",
   "execution_count": 1721,
   "metadata": {},
   "outputs": [],
   "source": [
    "sorted_hist = sorted(hist.items(), reverse=True, key=operator.itemgetter(1))"
   ]
  },
  {
   "cell_type": "code",
   "execution_count": null,
   "metadata": {},
   "outputs": [],
   "source": [
    "### get the count of each itemID"
   ]
  },
  {
   "cell_type": "code",
   "execution_count": 1707,
   "metadata": {},
   "outputs": [],
   "source": [
    "hist_bis = defaultdict(int)\n",
    "for i in data:\n",
    "    hist_bis[i['itemID']] += 1"
   ]
  },
  {
   "cell_type": "code",
   "execution_count": 1708,
   "metadata": {},
   "outputs": [],
   "source": [
    "sorted_hist_bis = sorted(hist_bis.items(), reverse=True, key=operator.itemgetter(1))"
   ]
  },
  {
   "cell_type": "markdown",
   "metadata": {},
   "source": [
    "### get the most popular 10%, 20% 50% 80% and 90% items"
   ]
  },
  {
   "cell_type": "code",
   "execution_count": 1711,
   "metadata": {},
   "outputs": [],
   "source": [
    "total_items = 0\n",
    "\n",
    "for k,v in sorted_hist_bis:\n",
    "    total_items += v\n",
    "\n",
    "def popular_sorter(cutoff):\n",
    "    print(total_items)\n",
    "    popular_items = set()\n",
    "    count = 0\n",
    "    for k,v in sorted_hist_bis:\n",
    "        popular_items.add(k)\n",
    "        count += v\n",
    "        if (count >= cutoff * total_items):\n",
    "            break\n",
    "    return popular_items.copy()"
   ]
  },
  {
   "cell_type": "code",
   "execution_count": 1712,
   "metadata": {},
   "outputs": [
    {
     "name": "stdout",
     "output_type": "stream",
     "text": [
      "200000\n",
      "200000\n",
      "200000\n",
      "200000\n",
      "200000\n"
     ]
    }
   ],
   "source": [
    "popular_items_10 = popular_sorter(0.1)\n",
    "popular_items_20 = popular_sorter(0.2)\n",
    "popular_items_50 = popular_sorter(0.5)\n",
    "popular_items_80 = popular_sorter(0.8)\n",
    "popular_items_90 = popular_sorter(0.9)"
   ]
  },
  {
   "cell_type": "markdown",
   "metadata": {},
   "source": [
    "### Get a validation set with half negative samples"
   ]
  },
  {
   "cell_type": "code",
   "execution_count": 1713,
   "metadata": {},
   "outputs": [],
   "source": [
    "unique_reviewer1 = list(set([d['reviewerID'] for d in data]))\n",
    "unique_business1 = list(set([d['itemID'] for d in data]))"
   ]
  },
  {
   "cell_type": "code",
   "execution_count": 1715,
   "metadata": {},
   "outputs": [
    {
     "data": {
      "text/plain": [
       "200000"
      ]
     },
     "execution_count": 1715,
     "metadata": {},
     "output_type": "execute_result"
    }
   ],
   "source": [
    "visited_pairs = []\n",
    "for datum in data:\n",
    "    visited_pairs.append((datum['reviewerID'], datum['itemID']))\n",
    "visited_pairs = set(visited_pairs)\n",
    "len(visited_pairs)"
   ]
  },
  {
   "cell_type": "code",
   "execution_count": 1716,
   "metadata": {},
   "outputs": [],
   "source": [
    "non_visted_pairs = set()\n",
    "counter = 100000\n",
    "while counter:\n",
    "    random_item_id = random.sample(unique_business1, 1)[0]\n",
    "    random_userID = random.sample(unique_reviewer1, 1)[0]\n",
    "    if ((random_userID, random_item_id) not in visited_pairs\n",
    "        and (random_userID, random_item_id) not in non_visted_pairs):\n",
    "            non_visted_pairs.add((random_userID, random_item_id))\n",
    "            counter -= 1\n",
    "            "
   ]
  },
  {
   "cell_type": "code",
   "execution_count": 1717,
   "metadata": {},
   "outputs": [],
   "source": [
    "sampled_dataset = [[d[0], d[1]] for d in non_visted_pairs]\n",
    "y_sampled = [0]*len(sampled_dataset)"
   ]
  },
  {
   "cell_type": "code",
   "execution_count": 1718,
   "metadata": {},
   "outputs": [],
   "source": [
    "x_train1 = [[d['reviewerID'], d['itemID']] for d in train]\n",
    "y_train1 = [1]*len(x_train)"
   ]
  },
  {
   "cell_type": "code",
   "execution_count": 1719,
   "metadata": {},
   "outputs": [],
   "source": [
    "val_data1 = [[d['reviewerID'], d['itemID']] for d in val]\n",
    "y_validation1 = [1]*len(val_data1)"
   ]
  },
  {
   "cell_type": "code",
   "execution_count": 1720,
   "metadata": {},
   "outputs": [],
   "source": [
    "val_data1 = val_data1 + sampled_dataset\n",
    "\n",
    "x_val1 = val_data1\n",
    "y_val1 = y_validation1 + y_sampled"
   ]
  },
  {
   "cell_type": "code",
   "execution_count": 1721,
   "metadata": {},
   "outputs": [],
   "source": [
    "# sorted_hist = sorted(hist.items(), reverse=True, key=operator.itemgetter(1))"
   ]
  },
  {
   "cell_type": "markdown",
   "metadata": {},
   "source": [
    "### Basis for creating category list to use in the model"
   ]
  },
  {
   "cell_type": "markdown",
   "metadata": {},
   "source": [
    "* Helpful (ideas):\n",
    "    + Opposites:\n",
    "        ('Women', 198548),\n",
    "        ('Men', 80021),\n",
    "        \n",
    "        ('Petite', 20100),\n",
    "        ('Big & Tall', 12217),\n",
    "        ('Plus-Size', 11704),\n",
    "        \n",
    "        ('Girls', 3046),\n",
    "        ('Boys', 2509),\n",
    "        \n",
    "        ('Baby Girls', 2120),\n",
    "        ('Baby Boys', 2069),\n",
    "   \n",
    "    + Broad categories:\n",
    "        ('Intimates', 28040),\n",
    "        ('Jewelry', 23468),\n",
    "        ('Sports & Outdoors', 17663)\n",
    "        ('Novelty', 28807)\n",
    "        ('Fashion', 6629)\n",
    "        ('Shoes', 61746)\n",
    "        "
   ]
  },
  {
   "cell_type": "code",
   "execution_count": 1723,
   "metadata": {},
   "outputs": [],
   "source": [
    "catCuratedList = [\n",
    "    'Women',\n",
    "    'Men',\n",
    "    'Petite',\n",
    "    'Big & Tall',\n",
    "    'Plus-Size',\n",
    "    'Girls',\n",
    "    'Boys',\n",
    "    'Baby Girls',\n",
    "    'Baby Boys',\n",
    "    'Intimates',\n",
    "    'Jewelry',\n",
    "    'Sports & Outdoors',\n",
    "    'Novelty',\n",
    "    'Fashion',\n",
    "    'Shoes',\n",
    "    'Bras',\n",
    "    'Accessories',\n",
    "    'Jeans',\n",
    "    'Tops & Tees',\n",
    "    'Socks',\n",
    "    'Underwear',\n",
    "    'Baby'\n",
    "]\n"
   ]
  },
  {
   "cell_type": "code",
   "execution_count": null,
   "metadata": {},
   "outputs": [],
   "source": [
    "catCuratedDict = dict(zip(catCuratedList, range(len(catCuratedList))))"
   ]
  },
  {
   "cell_type": "code",
   "execution_count": 1724,
   "metadata": {},
   "outputs": [],
   "source": [
    "unique_reviewer = list(set([d['reviewerID'] for d in train]))\n",
    "unique_business = list(set([d['itemID'] for d in train]))\n",
    "unique_category = [d for d in catCuratedDict] #[d[0] for d in sorted_hist[:10]]"
   ]
  },
  {
   "cell_type": "code",
   "execution_count": 1726,
   "metadata": {},
   "outputs": [],
   "source": [
    "reviewerIds = dict(zip(unique_reviewer, range(len(unique_reviewer))))\n",
    "businessIds = dict(zip(unique_business, range(len(unique_business))))\n",
    "catIds = catCuratedDict\n",
    "num_users = len(unique_reviewer)\n",
    "num_business = len(unique_business)"
   ]
  },
  {
   "cell_type": "markdown",
   "metadata": {},
   "source": [
    "### Creating a user/category matrix and user/category weighted matrix"
   ]
  },
  {
   "cell_type": "code",
   "execution_count": 1728,
   "metadata": {},
   "outputs": [],
   "source": [
    "def getCatIds(datum, ref_cats):\n",
    "    cats = []\n",
    "    flat = flatten(datum['categories'])\n",
    "    for f in flat:\n",
    "        if f in ref_cats:\n",
    "            cats.append(catIds[f])\n",
    "#    print(cats)\n",
    "    return cats"
   ]
  },
  {
   "cell_type": "code",
   "execution_count": 1729,
   "metadata": {},
   "outputs": [],
   "source": [
    "categories = np.zeros((num_users, len(unique_category)))\n",
    "for d in train:\n",
    "    uId = reviewerIds[d['reviewerID']]\n",
    "    cats = getCatIds(d, unique_category)\n",
    "    for c in cats:\n",
    "        categories[uId][c] = 1"
   ]
  },
  {
   "cell_type": "code",
   "execution_count": 1731,
   "metadata": {},
   "outputs": [],
   "source": [
    "weighted_categories = np.zeros((num_users, len(unique_category)))\n",
    "weighted_categories.fill(0)\n",
    "for d in train:\n",
    "    uId = reviewerIds[d['reviewerID']]\n",
    "    cats = getCatIds(d, unique_category)\n",
    "    for c in cats:\n",
    "        weighted_categories[uId][c] += 1"
   ]
  },
  {
   "cell_type": "markdown",
   "metadata": {},
   "source": [
    "### Creating an item/category matrix and item/category weighted matrix"
   ]
  },
  {
   "cell_type": "code",
   "execution_count": 1733,
   "metadata": {},
   "outputs": [],
   "source": [
    "catToitem = np.zeros((num_business, len(unique_category)))\n",
    "for d in train:\n",
    "    bId = businessIds[d['itemID']]\n",
    "    cats = getCatIds(d, unique_category)\n",
    "    for c in cats:\n",
    "        catToitem[bId][c] = 1"
   ]
  },
  {
   "cell_type": "code",
   "execution_count": 1734,
   "metadata": {},
   "outputs": [],
   "source": [
    "weighted_catToitem = np.zeros((num_business, len(unique_category)))\n",
    "for d in train:\n",
    "    bId = businessIds[d['itemID']]\n",
    "    cats = getCatIds(d, unique_category)\n",
    "    for c in cats:\n",
    "        weighted_catToitem[bId][c] += 1"
   ]
  },
  {
   "cell_type": "code",
   "execution_count": 1791,
   "metadata": {},
   "outputs": [],
   "source": [
    "def predict_purchase_baseline(uid, bid):\n",
    "    \n",
    "    if bid not in unique_business:\n",
    "        return 0\n",
    "\n",
    "    if bid in popular_items_10:\n",
    "        return 1\n",
    "    elif uid not in unique_reviewer:\n",
    "        if bid in popular_items_50:\n",
    "            return 1\n",
    "        return 0\n",
    "    else:\n",
    "        b = businessIds[bid]\n",
    "        u = reviewerIds[uid]\n",
    "        bc = np.atleast_2d(weighted_catToitem[b])\n",
    "        bc_jac = catToitem[b]\n",
    "        bc_mag = np.linalg.norm(np.array(bc_jac))\n",
    "       # print(bc)\n",
    "        #print(bc_mag)\n",
    "        uc = np.atleast_2d(weighted_categories[u])\n",
    "        uc_jac = categories[u]\n",
    "        uc_mag = np.linalg.norm(np.array(uc_jac))\n",
    "        #print(uc)\n",
    "        #print(uc_mag)\n",
    "\n",
    "        cos = cosine_similarity(bc, uc)\n",
    "        jac = jaccard_similarity_score(bc_jac, uc_jac, normalize=True)\n",
    "\n",
    "       # cos = np.linalg.norm()\n",
    "       # print(cos)\n",
    "\n",
    "        if bid in popular_items_20 and cos > 0:\n",
    "            return 1\n",
    "        elif cos >= 0.40 and bid in popular_items_50:\n",
    "\n",
    "        \n",
    "           # print(bc)\n",
    "           # print(uc)\n",
    "           # print(cos)\n",
    "        \n",
    "            return 1\n",
    "        elif bid in popular_items_80 and cos >= 0.60:\n",
    "            return 1 \n",
    "        elif cos >= 0.80:\n",
    "            #if uc_mag < 2 or bc_mag < 2:\n",
    "               # print(bc)\n",
    "             #   print(uc)\n",
    "               # print(cos)\n",
    "               # return 0\n",
    "            return 1\n",
    "\n",
    "      #      else:\n",
    "       #         print(cos)\n",
    "        #        print(jac)\n",
    "       #         for d in train:\n",
    "        #            if bid == d['itemID']:\n",
    "         #               print(\"ITERM: \" + str(d))\n",
    "          #          if uid == d['reviewerID']:\n",
    "           #             print(\"USER: \" + str(d))\n",
    "\n",
    "    \n",
    "    #print(bc)\n",
    "   # print(uc)\n",
    "   # print(cos)\n",
    "    return 0\n",
    "\n"
   ]
  },
  {
   "cell_type": "markdown",
   "metadata": {},
   "source": [
    "#### Test on validation set, due to computing time, only test 20000 data."
   ]
  },
  {
   "cell_type": "code",
   "execution_count": 1793,
   "metadata": {},
   "outputs": [],
   "source": [
    "test_range = slice(90000,110000)"
   ]
  },
  {
   "cell_type": "code",
   "execution_count": 1794,
   "metadata": {},
   "outputs": [],
   "source": [
    "pred_y=[]\n",
    "for d in x_val1[test_range]:\n",
    "    \n",
    "    uid = d[0]\n",
    "   # print(uid)\n",
    "    bid = d[1]\n",
    "   # print(bid)\n",
    "    pred_y.append(predict_purchase_baseline(uid,bid))"
   ]
  },
  {
   "cell_type": "code",
   "execution_count": 1795,
   "metadata": {},
   "outputs": [
    {
     "data": {
      "text/plain": [
       "0.6841"
      ]
     },
     "execution_count": 1795,
     "metadata": {},
     "output_type": "execute_result"
    }
   ],
   "source": [
    "accuracy_score(pred_y, y_val1[test_range])"
   ]
  },
  {
   "cell_type": "code",
   "execution_count": 1796,
   "metadata": {},
   "outputs": [],
   "source": [
    "predictions = open(\"predictions_Purchase.txt\", 'w')\n",
    "for l in open(\"pairs_Purchase.txt\"):\n",
    "  if l.startswith(\"reviewerID\"):\n",
    "    #header\n",
    "\n",
    "    predictions.write(l)\n",
    "    continue\n",
    "  uid,bid = l.strip().split('-')\n",
    "  predictions.write(uid + \"-\" + bid + \",\" + str(predict_purchase_baseline(uid, bid)) + \"\\n\")\n",
    "predictions.close()"
   ]
  }
 ],
 "metadata": {
  "kernelspec": {
   "display_name": "Python 3",
   "language": "python",
   "name": "python3"
  },
  "language_info": {
   "codemirror_mode": {
    "name": "ipython",
    "version": 3
   },
   "file_extension": ".py",
   "mimetype": "text/x-python",
   "name": "python",
   "nbconvert_exporter": "python",
   "pygments_lexer": "ipython3",
   "version": "3.6.6"
  }
 },
 "nbformat": 4,
 "nbformat_minor": 2
}
