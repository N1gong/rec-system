{
 "cells": [
  {
   "cell_type": "code",
   "execution_count": 1,
   "metadata": {},
   "outputs": [],
   "source": [
    "import numpy as np\n",
    "from urllib.request import urlopen\n",
    "import scipy.optimize\n",
    "import random\n",
    "from math import exp\n",
    "from math import log"
   ]
  },
  {
   "cell_type": "code",
   "execution_count": 2,
   "metadata": {},
   "outputs": [],
   "source": [
    "def parseData(fname):\n",
    "  for l in urlopen(fname):\n",
    "    yield eval(l)\n",
    "\n"
   ]
  },
  {
   "cell_type": "code",
   "execution_count": 3,
   "metadata": {},
   "outputs": [
    {
     "name": "stdout",
     "output_type": "stream",
     "text": [
      "Reading data...\n",
      "done\n"
     ]
    }
   ],
   "source": [
    "print(\"Reading data...\")\n",
    "data = list(parseData(\"http://jmcauley.ucsd.edu/cse190/data/beer/beer_50000.json\"))\n",
    "print(\"done\")"
   ]
  },
  {
   "cell_type": "code",
   "execution_count": 4,
   "metadata": {},
   "outputs": [],
   "source": [
    "def feature(datum):\n",
    "  feat = [1, datum['review/taste'], datum['review/appearance'], datum['review/aroma'], datum['review/palate'], datum['review/overall']]\n",
    "  return feat"
   ]
  },
  {
   "cell_type": "code",
   "execution_count": 5,
   "metadata": {},
   "outputs": [],
   "source": [
    "X = [feature(d) for d in data]\n",
    "y = [d['beer/ABV'] >= 6.5 for d in data]"
   ]
  },
  {
   "cell_type": "code",
   "execution_count": 6,
   "metadata": {},
   "outputs": [],
   "source": [
    "def inner(x,y):\n",
    "  return sum([x[i]*y[i] for i in range(len(x))])\n",
    "\n",
    "def sigmoid(x):\n",
    "  return 1.0 / (1 + exp(-x))\n",
    "\n",
    " "
   ]
  },
  {
   "cell_type": "markdown",
   "metadata": {},
   "source": [
    "\n",
    "### Logistic regression by gradient ascent  \n"
   ]
  },
  {
   "cell_type": "markdown",
   "metadata": {},
   "source": [
    "#### NEGATIVE Log-likelihood"
   ]
  },
  {
   "cell_type": "code",
   "execution_count": 7,
   "metadata": {},
   "outputs": [],
   "source": [
    "def f(theta, X, y, lam):\n",
    "  loglikelihood = 0\n",
    "  for i in range(len(X)): \n",
    "    logit = inner(X[i], theta)\n",
    "    loglikelihood -= log(1 + exp(-logit))\n",
    "    if not y[i]:\n",
    "      loglikelihood -= logit\n",
    "  for k in range(len(theta)):\n",
    "    loglikelihood -= lam * theta[k]*theta[k]\n",
    "  # for debugging\n",
    "  # print(\"ll =\" + str(loglikelihood))\n",
    "  return -loglikelihood "
   ]
  },
  {
   "cell_type": "markdown",
   "metadata": {},
   "source": [
    "#### NEGATIVE Derivative of log-likelihood"
   ]
  },
  {
   "cell_type": "code",
   "execution_count": 8,
   "metadata": {},
   "outputs": [],
   "source": [
    "def fprime(theta, X, y, lam):\n",
    "  dl = [0]*len(theta)\n",
    "  for i in range(len(X)):\n",
    "    logit = inner(X[i], theta)\n",
    "    for k in range(len(theta)):\n",
    "      dl[k] += X[i][k] * (1 - sigmoid(logit))\n",
    "      if not y[i]:\n",
    "        dl[k] -= X[i][k]\n",
    "  for k in range(len(theta)):\n",
    "    dl[k] -= lam*2*theta[k]\n",
    "  return np.array([-x for x in dl])"
   ]
  },
  {
   "cell_type": "code",
   "execution_count": 9,
   "metadata": {},
   "outputs": [],
   "source": [
    "rand_data = random.sample(data, int(len(data)))"
   ]
  },
  {
   "cell_type": "code",
   "execution_count": 10,
   "metadata": {},
   "outputs": [],
   "source": [
    "X = [feature(d) for d in rand_data]\n",
    "y = [d['beer/ABV'] >= 6.5 for d in rand_data]"
   ]
  },
  {
   "cell_type": "code",
   "execution_count": 11,
   "metadata": {},
   "outputs": [],
   "source": [
    "n_train = int(len(rand_data) * (1/3))\n",
    "\n",
    "X_train = X[:n_train]\n",
    "y_train = y[:n_train]\n",
    "\n"
   ]
  },
  {
   "cell_type": "code",
   "execution_count": 12,
   "metadata": {},
   "outputs": [],
   "source": [
    "n_test = int((len(rand_data) - n_train) * (1/2))\n",
    "\n",
    "X_test = X[n_train:(n_train+n_test)]\n",
    "y_test = y[n_train:(n_train+n_test)]\n"
   ]
  },
  {
   "cell_type": "code",
   "execution_count": 13,
   "metadata": {},
   "outputs": [],
   "source": [
    "X_val = X[n_train+n_test:]\n",
    "y_val = y[n_train+n_test:]\n"
   ]
  },
  {
   "cell_type": "markdown",
   "metadata": {},
   "source": [
    "#### Train"
   ]
  },
  {
   "cell_type": "code",
   "execution_count": 14,
   "metadata": {},
   "outputs": [],
   "source": [
    "def train(lam):\n",
    "  theta,_,_ = scipy.optimize.fmin_l_bfgs_b(f, [0]*len(X[0]), fprime, pgtol = 10, args = (X_train, y_train, lam))\n",
    "  return theta\n"
   ]
  },
  {
   "cell_type": "markdown",
   "metadata": {},
   "source": [
    "#### Predict "
   ]
  },
  {
   "cell_type": "code",
   "execution_count": 15,
   "metadata": {},
   "outputs": [],
   "source": [
    "def performance(theta, X, y):\n",
    "    scores = [inner(theta,x) for x in X]\n",
    "    predictions = [s > 0 for s in scores]\n",
    "    correct = [(a==b) for (a,b) in zip(predictions,y)]\n",
    "    acc = sum(correct) * 1.0 / len(correct)\n",
    "    return acc\n"
   ]
  },
  {
   "cell_type": "markdown",
   "metadata": {},
   "source": [
    "#### Validation pipeline "
   ]
  },
  {
   "cell_type": "code",
   "execution_count": 16,
   "metadata": {},
   "outputs": [],
   "source": [
    "lam = 1.0\n",
    "\n",
    "theta = train(lam)\n"
   ]
  },
  {
   "cell_type": "code",
   "execution_count": 17,
   "metadata": {},
   "outputs": [],
   "source": [
    "val_acc = performance(theta, X_val, y_val)\n",
    "test_acc = performance(theta, X_test, y_test)"
   ]
  },
  {
   "cell_type": "code",
   "execution_count": 18,
   "metadata": {},
   "outputs": [
    {
     "name": "stdout",
     "output_type": "stream",
     "text": [
      "lambda = 1.0:\tvalidation accuracy = 0.7169856602867942\n",
      "lambda = 1.0:\ttest accuracy = 0.7217255654886903\n"
     ]
    }
   ],
   "source": [
    "print(\"lambda = \" + str(lam) + \":\\tvalidation accuracy = \" + str(val_acc))\n",
    "print(\"lambda = \" + str(lam) + \":\\ttest accuracy = \" + str(test_acc))"
   ]
  },
  {
   "cell_type": "markdown",
   "metadata": {},
   "source": [
    "### Q2"
   ]
  },
  {
   "cell_type": "code",
   "execution_count": 19,
   "metadata": {},
   "outputs": [],
   "source": [
    "def performance(theta, X, y):\n",
    "    scores = [inner(theta,x) for x in X]\n",
    "    predictions = [s > 0 for s in scores]\n",
    "    \n",
    "    true_pos = [(1 if(a==b and a==1) else 0) for (a,b) in zip(predictions, y)]\n",
    "    true_pos = sum(true_pos)\n",
    "    \n",
    "    true_neg = [(1 if(a==b and a==0) else 0) for (a,b) in zip(predictions, y)]\n",
    "    true_neg = sum(true_neg)\n",
    "    \n",
    "    false_pos = [(1 if(a!=b and a==1) else 0) for (a,b) in zip(predictions, y)]\n",
    "    false_pos = sum(false_pos)\n",
    "    \n",
    "    false_neg = [(1 if(a!=b and a==0) else 0) for (a,b) in zip(predictions, y)]\n",
    "    false_neg = sum(false_neg)\n",
    "    \n",
    "    true_pos_rate = float(true_pos)/float((true_pos+false_neg))\n",
    "    true_neg_rate = float(true_neg)/float((true_neg+false_pos))\n",
    "    BER = 1 - 0.5*(true_pos_rate + true_neg_rate)\n",
    "    \n",
    "    return true_pos, true_neg, false_pos, false_neg, BER"
   ]
  },
  {
   "cell_type": "code",
   "execution_count": 20,
   "metadata": {},
   "outputs": [
    {
     "name": "stdout",
     "output_type": "stream",
     "text": [
      "lambda = 1.0:\t# of true postives = 9113\n",
      "lambda = 1.0:\t# of true negative = 2916\n",
      "lambda = 1.0:\t# of false postives = 3319\n",
      "lambda = 1.0:\t# of false negatives = 1319\n",
      "lambda = 1.0:\tBalanced Error Rate = 0.32937772279237043\n"
     ]
    }
   ],
   "source": [
    "true_pos, true_neg, false_pos, false_neg, BER = performance(theta, X_test, y_test)\n",
    "print(\"lambda = \" + str(lam) + \":\\t# of true postives = \" + str(true_pos))\n",
    "print(\"lambda = \" + str(lam) + \":\\t# of true negative = \" + str(true_neg))\n",
    "print(\"lambda = \" + str(lam) + \":\\t# of false postives = \" + str(false_pos))\n",
    "print(\"lambda = \" + str(lam) + \":\\t# of false negatives = \" + str(false_neg))\n",
    "print(\"lambda = \" + str(lam) + \":\\tBalanced Error Rate = \" + str(BER))"
   ]
  },
  {
   "cell_type": "markdown",
   "metadata": {},
   "source": [
    "#### Q3 "
   ]
  },
  {
   "cell_type": "markdown",
   "metadata": {},
   "source": [
    "Assigning more importance to FP means that the predictor will predict FP at higher accuracy therefore reduce the number of FP than before.\n",
    "To achieve this, I need to lower the possibility of predicting positive."
   ]
  },
  {
   "cell_type": "code",
   "execution_count": 21,
   "metadata": {},
   "outputs": [],
   "source": [
    "def sigmoid1(x):\n",
    "  return 1.0 / (1 + exp(-x))"
   ]
  },
  {
   "cell_type": "code",
   "execution_count": 27,
   "metadata": {},
   "outputs": [],
   "source": [
    "def f1(theta, X, y, lam):\n",
    "  loglikelihood = 0\n",
    "  for i in range(len(X)):\n",
    "    logit = inner(X[i], theta)\n",
    "    loglikelihood -= log(1 + exp(-logit))\n",
    "    if not y[i]:\n",
    "      loglikelihood -= logit\n",
    "  for k in range(len(theta)):\n",
    "    loglikelihood -= lam * theta[k]*theta[k]\n",
    "  # for debugging\n",
    "  # print(\"ll =\" + str(loglikelihood))\n",
    "  return -loglikelihood\n",
    "\n",
    "# NEGATIVE Derivative of log-likelihood\n",
    "def fprime1(theta, X, y, lam):\n",
    "  dl = [0]*len(theta)\n",
    "  for i in range(len(X)):\n",
    "    logit = inner(X[i], theta)\n",
    "    for k in range(len(theta)):\n",
    "      dl[k] += X[i][k] * (1 - sigmoid1(logit))\n",
    "      if not y[i]:\n",
    "        dl[k] -= X[i][k]\n",
    "  for k in range(len(theta)):\n",
    "    dl[k] -= lam*2*theta[k]\n",
    "  return np.array([-x for x in dl])"
   ]
  },
  {
   "cell_type": "code",
   "execution_count": 28,
   "metadata": {},
   "outputs": [],
   "source": [
    "def train1(lam):\n",
    "  theta,_,_ = scipy.optimize.fmin_l_bfgs_b(f1, [0]*len(X[0]), fprime1, pgtol = 10, args = (X_train, y_train, lam))\n",
    "  return theta\n",
    "lam = 1\n",
    "theta = train1(lam)"
   ]
  },
  {
   "cell_type": "code",
   "execution_count": 29,
   "metadata": {},
   "outputs": [
    {
     "data": {
      "text/plain": [
       "3319"
      ]
     },
     "execution_count": 29,
     "metadata": {},
     "output_type": "execute_result"
    }
   ],
   "source": [
    "true_pos, true_neg, false_pos, false_neg, BER = performance(theta, X_test, y_test)\n",
    "false_pos"
   ]
  },
  {
   "cell_type": "markdown",
   "metadata": {},
   "source": [
    "### Q4"
   ]
  },
  {
   "cell_type": "code",
   "execution_count": 25,
   "metadata": {},
   "outputs": [
    {
     "name": "stdout",
     "output_type": "stream",
     "text": [
      "lambda = 0:\tvalidation balanced error rate = 0.3321638727733528\n",
      "lambda = 0.01:\tvalidation balanced error rate = 0.33202129345905806\n",
      "lambda = 0.1:\tvalidation balanced error rate = 0.3320564381370883\n",
      "lambda = 1:\tvalidation balanced error rate = 0.3325546340691665\n",
      "lambda = 100:\tvalidation balanced error rate = 0.4209951010541717\n",
      "\n",
      "best value of lambda = 100:\ttrain balanced error rate = 0.32989111313036745\n",
      "best value of lambda = 100:\tvalidation balanced error rate = 0.33202129345905806\n",
      "best value of lambda = 100:\ttest balanced error rate = 0.3292136172827055\n"
     ]
    }
   ],
   "source": [
    "ber = {}\n",
    "for lam in [0, 0.01, 0.1, 1, 100]:\n",
    "    theta = train(lam)\n",
    "    val_ber = performance(theta, X_val, y_val)[4]\n",
    "    ber[val_ber] = lam\n",
    "    print(\"lambda = \" + str(lam) + \":\\tvalidation balanced error rate = \" + str(val_ber))\n",
    "\n",
    "best_ber = min(ber.keys())\n",
    "best_lam = ber[best_ber]\n",
    "theta = train(best_lam)\n",
    "train_ber = performance(theta, X_train, y_train)[4]\n",
    "val_ber = performance(theta, X_val, y_val)[4]\n",
    "test_ber = performance(theta, X_test, y_test)[4]\n",
    "print()\n",
    "print(\"best value of lambda = \" + str(lam) + \":\\ttrain balanced error rate = \" + str(train_ber))\n",
    "print(\"best value of lambda = \" + str(lam) + \":\\tvalidation balanced error rate = \" + str(val_ber))\n",
    "print(\"best value of lambda = \" + str(lam) + \":\\ttest balanced error rate = \" + str(test_ber))"
   ]
  },
  {
   "cell_type": "code",
   "execution_count": null,
   "metadata": {},
   "outputs": [],
   "source": []
  }
 ],
 "metadata": {
  "kernelspec": {
   "display_name": "Python 3",
   "language": "python",
   "name": "python3"
  },
  "language_info": {
   "codemirror_mode": {
    "name": "ipython",
    "version": 3
   },
   "file_extension": ".py",
   "mimetype": "text/x-python",
   "name": "python",
   "nbconvert_exporter": "python",
   "pygments_lexer": "ipython3",
   "version": "3.6.7"
  }
 },
 "nbformat": 4,
 "nbformat_minor": 2
}
